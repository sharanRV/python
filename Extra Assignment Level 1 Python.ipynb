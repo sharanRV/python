{
 "cells": [
  {
   "cell_type": "code",
   "execution_count": 2,
   "metadata": {},
   "outputs": [
    {
     "name": "stdout",
     "output_type": "stream",
     "text": [
      "HOPE AI\n"
     ]
    }
   ],
   "source": [
    "print(\"HOPE AI\")"
   ]
  },
  {
   "cell_type": "code",
   "execution_count": 3,
   "metadata": {},
   "outputs": [
    {
     "name": "stdout",
     "output_type": "stream",
     "text": [
      "Enter your institute name? : HOPE AI\n"
     ]
    }
   ],
   "source": [
    "institute_name=input(\"Enter your institute name? : \")"
   ]
  },
  {
   "cell_type": "code",
   "execution_count": 4,
   "metadata": {},
   "outputs": [
    {
     "name": "stdout",
     "output_type": "stream",
     "text": [
      "Enter your name: sharan\n",
      "Enter your age: 24\n",
      "Enter your school name: vmhss\n",
      "Enter your degree: Bscit\n"
     ]
    }
   ],
   "source": [
    "name=input(\"Enter your name: \")\n",
    "age=input(\"Enter your age: \")\n",
    "school_name=input(\"Enter your school name: \")\n",
    "degree=input(\"Enter your degree: \")"
   ]
  },
  {
   "cell_type": "code",
   "execution_count": 5,
   "metadata": {},
   "outputs": [
    {
     "name": "stdout",
     "output_type": "stream",
     "text": [
      "a= 43\n",
      "b= 34\n",
      "Addition-  77\n"
     ]
    }
   ],
   "source": [
    "#addition\n",
    "#a=43\n",
    "#b=34\n",
    "num1=int(input(\"a= \"))\n",
    "num2=int(input(\"b= \"))\n",
    "add=num1+num2\n",
    "print(\"Addition- \",add)"
   ]
  },
  {
   "cell_type": "code",
   "execution_count": 6,
   "metadata": {},
   "outputs": [
    {
     "name": "stdout",
     "output_type": "stream",
     "text": [
      "a= 43\n",
      "b= 34\n",
      "Substraction-  9\n"
     ]
    }
   ],
   "source": [
    "#substraction\n",
    "# a=43\n",
    "# b=34\n",
    "num1=int(input(\"a= \"))\n",
    "num2=int(input(\"b= \"))\n",
    "substract=num1-num2\n",
    "print(\"Substraction- \",substract)"
   ]
  },
  {
   "cell_type": "code",
   "execution_count": 9,
   "metadata": {},
   "outputs": [
    {
     "name": "stdout",
     "output_type": "stream",
     "text": [
      "a= 63\n",
      "b= 97\n",
      "Multiplication-  6111\n"
     ]
    }
   ],
   "source": [
    "# multiplication\n",
    "# a=63\n",
    "# b=97\n",
    "num1=int(input(\"a= \"))\n",
    "num2=int(input(\"b= \"))\n",
    "mul=num1*num2\n",
    "print(\"Multiplication- \",mul)"
   ]
  },
  {
   "cell_type": "code",
   "execution_count": 10,
   "metadata": {},
   "outputs": [
    {
     "name": "stdout",
     "output_type": "stream",
     "text": [
      "a= 76\n",
      "b= 31\n",
      "Division-  2.4516129032258065\n"
     ]
    }
   ],
   "source": [
    "# division\n",
    "# a=76\n",
    "# b=31\n",
    "num1=int(input(\"a= \"))\n",
    "num2=int(input(\"b= \"))\n",
    "div=num1/num2\n",
    "print(\"Division- \",div)"
   ]
  },
  {
   "cell_type": "code",
   "execution_count": 11,
   "metadata": {},
   "outputs": [
    {
     "name": "stdout",
     "output_type": "stream",
     "text": [
      "a= 76\n",
      "b= 31\n",
      "Floor division-  2\n"
     ]
    }
   ],
   "source": [
    "# floor division\n",
    "# a=76\n",
    "# b=31\n",
    "num1=int(input(\"a= \"))\n",
    "num2=int(input(\"b= \"))\n",
    "floor_div=num1//num2\n",
    "print(\"Floor division- \",floor_div)"
   ]
  },
  {
   "cell_type": "code",
   "execution_count": 12,
   "metadata": {},
   "outputs": [
    {
     "name": "stdout",
     "output_type": "stream",
     "text": [
      "a= 76\n",
      "b= 31\n",
      "modulo-  14\n"
     ]
    }
   ],
   "source": [
    "# modulo\n",
    "# a=76\n",
    "# b=31\n",
    "num1=int(input(\"a= \"))\n",
    "num2=int(input(\"b= \"))\n",
    "modulo=num1%num2\n",
    "print(\"modulo- \",modulo)"
   ]
  },
  {
   "cell_type": "code",
   "execution_count": 13,
   "metadata": {},
   "outputs": [
    {
     "name": "stdout",
     "output_type": "stream",
     "text": [
      "a= 4\n",
      "b= 4\n",
      "Power-  256\n"
     ]
    }
   ],
   "source": [
    "# power\n",
    "# a=4\n",
    "# b=4\n",
    "num1=int(input(\"a= \"))\n",
    "num2=int(input(\"b= \"))\n",
    "power=num1**num2\n",
    "print(\"Power- \",power)"
   ]
  },
  {
   "cell_type": "code",
   "execution_count": null,
   "metadata": {},
   "outputs": [],
   "source": []
  }
 ],
 "metadata": {
  "kernelspec": {
   "display_name": "Python 3",
   "language": "python",
   "name": "python3"
  },
  "language_info": {
   "codemirror_mode": {
    "name": "ipython",
    "version": 3
   },
   "file_extension": ".py",
   "mimetype": "text/x-python",
   "name": "python",
   "nbconvert_exporter": "python",
   "pygments_lexer": "ipython3",
   "version": "3.7.4"
  }
 },
 "nbformat": 4,
 "nbformat_minor": 2
}
