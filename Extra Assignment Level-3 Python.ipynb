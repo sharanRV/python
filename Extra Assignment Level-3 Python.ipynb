{
 "cells": [
  {
   "cell_type": "code",
   "execution_count": 12,
   "metadata": {},
   "outputs": [
    {
     "name": "stdout",
     "output_type": "stream",
     "text": [
      "Enter the number10\n",
      "Correct\n"
     ]
    }
   ],
   "source": [
    "#print 'correct' if i==10\n",
    "i=int(input(\"Enter the number\"))\n",
    "if (i==10):\n",
    "        print(\"Correct\")\n",
    "else:\n",
    "        print(\"wrong\")"
   ]
  },
  {
   "cell_type": "code",
   "execution_count": 17,
   "metadata": {},
   "outputs": [
    {
     "name": "stdout",
     "output_type": "stream",
     "text": [
      "Enter your Password:  Hope@123\n",
      "Your Password is correct\n"
     ]
    }
   ],
   "source": [
    "#Check the Password using if and else\n",
    "pwd=input(\"Enter your Password:  \")\n",
    "if (pwd==\"Hope@123\"):\n",
    "    print(\"Your Password is correct\")\n",
    "else:\n",
    "    print(\"Your Password is wrong\")"
   ]
  },
  {
   "cell_type": "code",
   "execution_count": 24,
   "metadata": {},
   "outputs": [
    {
     "name": "stdout",
     "output_type": "stream",
     "text": [
      "Enter your age: 40\n",
      "Citizen\n"
     ]
    }
   ],
   "source": [
    "#category the people by their age like children,adult,citizen,senior citizen\n",
    "age=int(input(\"Enter your age: \"))\n",
    "if(age<=18):\n",
    "    print(\"children\")\n",
    "elif(age<=35):\n",
    "    print(\"Adult\")\n",
    "elif(age<=60):\n",
    "    print(\"Citizen\")\n",
    "else:\n",
    "     print(\"Senior citizen\")"
   ]
  },
  {
   "cell_type": "code",
   "execution_count": 26,
   "metadata": {},
   "outputs": [
    {
     "name": "stdout",
     "output_type": "stream",
     "text": [
      "Enter the number: -1\n",
      "Negative Number\n"
     ]
    }
   ],
   "source": [
    "#Find weather given number is positive or negative\n",
    "num=int(input(\"Enter the number: \"))\n",
    "if (num>0):\n",
    "    print(\"Positive Number\")\n",
    "elif(num<0):\n",
    "    print(\"Negative Number\")\n",
    "else:\n",
    "    print(\"Zero\")"
   ]
  },
  {
   "cell_type": "code",
   "execution_count": null,
   "metadata": {},
   "outputs": [],
   "source": [
    "#Check weather the given Number is divisible by 5\n",
    "num=int(input(\"Enter the number: \"))\n",
    "if (num%5==0):\n",
    "    print(\"Number is divisible by 5\")\n",
    "else:\n",
    "     print(\"Number is not divisble by 5\")"
   ]
  },
  {
   "cell_type": "code",
   "execution_count": null,
   "metadata": {},
   "outputs": [],
   "source": []
  }
 ],
 "metadata": {
  "kernelspec": {
   "display_name": "Python 3",
   "language": "python",
   "name": "python3"
  },
  "language_info": {
   "codemirror_mode": {
    "name": "ipython",
    "version": 3
   },
   "file_extension": ".py",
   "mimetype": "text/x-python",
   "name": "python",
   "nbconvert_exporter": "python",
   "pygments_lexer": "ipython3",
   "version": "3.7.4"
  }
 },
 "nbformat": 4,
 "nbformat_minor": 2
}
