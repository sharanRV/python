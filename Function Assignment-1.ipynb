{
 "cells": [
  {
   "cell_type": "code",
   "execution_count": 1,
   "metadata": {},
   "outputs": [],
   "source": [
    "#Create Function\n",
    "def subfields():\n",
    "    print(\"Subfields in AI are\")\n",
    "    List=[\"Machine Learning\",\"Neural Networks\",\"Vision\",\"Robotics\",\"Speech Processing\",\"Natural Language Processing\"]\n",
    "    for Ai in List:\n",
    "               print(Ai)"
   ]
  },
  {
   "cell_type": "code",
   "execution_count": 2,
   "metadata": {},
   "outputs": [
    {
     "name": "stdout",
     "output_type": "stream",
     "text": [
      "Subfields in AI are\n",
      "Machine Learning\n",
      "Neural Networks\n",
      "Vision\n",
      "Robotics\n",
      "Speech Processing\n",
      "Natural Language Processing\n"
     ]
    }
   ],
   "source": [
    "subfields()"
   ]
  },
  {
   "cell_type": "code",
   "execution_count": 3,
   "metadata": {},
   "outputs": [],
   "source": [
    "#Create Function\n",
    "def oddeven():\n",
    "        num=int(input(\"Enter a number: \"))\n",
    "        if(num %2==0):\n",
    "            print(\"Even Number\")\n",
    "        else:\n",
    "            print(\"Odd Number\")"
   ]
  },
  {
   "cell_type": "code",
   "execution_count": 4,
   "metadata": {},
   "outputs": [
    {
     "name": "stdout",
     "output_type": "stream",
     "text": [
      "Enter a number: 21\n",
      "Odd Number\n"
     ]
    }
   ],
   "source": [
    "oddeven()"
   ]
  },
  {
   "cell_type": "code",
   "execution_count": 8,
   "metadata": {},
   "outputs": [],
   "source": [
    "#Create a function that tells eligibility of marriage for male and female According to their age limit 21 for male and 18 for female\n",
    "def Eligible():\n",
    "    Gender=input(\"Enter your Gender: \")\n",
    "    age=int(input(\"Enter your age: \"))\n",
    "    if (Gender=='Male'):\n",
    "        if (age>21):\n",
    "            print(\"Eligible for marriage\")\n",
    "        else:\n",
    "             print(\"Not eligible for Marriage\")\n",
    "    elif(Gender=='Female'):\n",
    "        if (age<18):\n",
    "            print(\"Not Eligible for Marriage\")\n",
    "        else:\n",
    "            print(\"Eligible for Marriage\")\n",
    "    else:\n",
    "          print(\" Invalid Number\")"
   ]
  },
  {
   "cell_type": "code",
   "execution_count": 11,
   "metadata": {},
   "outputs": [
    {
     "name": "stdout",
     "output_type": "stream",
     "text": [
      "Enter your Gender: Female\n",
      "Enter your age: 100\n",
      "Eligible for Marriage\n"
     ]
    }
   ],
   "source": [
    "Eligible()"
   ]
  },
  {
   "cell_type": "code",
   "execution_count": 22,
   "metadata": {},
   "outputs": [],
   "source": [
    "#Calculate the percentage of your 10th Mark\n",
    "def percentage():\n",
    "    sub1=int(input(\"subject1= \"))\n",
    "    sub2=int(input(\"subject2= \"))\n",
    "    sub3=int(input(\"subject3= \"))\n",
    "    sub4=int(input(\"subject4= \"))\n",
    "    sub5=int(input(\"subject5= \"))\n",
    "    Total=sub1+sub2+sub3+sub4+sub5\n",
    "    print(\"Total Mark is: \",Total)\n",
    "    percentage=(Total/500)*100\n",
    "    print(\"10th percentage is:  \",percentage)"
   ]
  },
  {
   "cell_type": "code",
   "execution_count": 23,
   "metadata": {},
   "outputs": [
    {
     "name": "stdout",
     "output_type": "stream",
     "text": [
      "subject1= 80\n",
      "subject2= 90\n",
      "subject3= 85\n",
      "subject4= 79\n",
      "subject5= 89\n",
      "Total Mark is:  423\n",
      "10th percentage is:   84.6\n"
     ]
    }
   ],
   "source": [
    "percentage()"
   ]
  },
  {
   "cell_type": "code",
   "execution_count": 26,
   "metadata": {},
   "outputs": [],
   "source": [
    "#Print area and perimeter of triangle using Function\n",
    "def triangle():\n",
    "    Height=int(input(\"Height: \"))\n",
    "    breadth=int(input(\"Breadth: \"))\n",
    "    print(\"Area formula: (Height*Breadth)/2 \")\n",
    "    print(\"Area of Triangle: \",(Height*breadth)/2)\n",
    "    Height1=int(input(\"Height1: \"))\n",
    "    Height2=int(input(\"Height2: \"))\n",
    "    breadth=int(input(\"Breadth: \"))\n",
    "    print(\"Perimeter formula:  Height1+Height2+Breadth\")\n",
    "    print(\"Perimeter of triangle:\",  Height1+Height2+breadth)\n",
    "    "
   ]
  },
  {
   "cell_type": "code",
   "execution_count": 27,
   "metadata": {},
   "outputs": [
    {
     "name": "stdout",
     "output_type": "stream",
     "text": [
      "Height: 32\n",
      "Breadth: 34\n",
      "Area formula: (Height*Breadth)/2 \n",
      "Area of Triangle:  544.0\n",
      "Height1: 2\n",
      "Height2: 4\n",
      "Breadth: 4\n",
      "Perimeter formula:  Height1+Height2+Breadth\n",
      "Perimeter of triangle: 10\n"
     ]
    }
   ],
   "source": [
    "triangle()"
   ]
  },
  {
   "cell_type": "code",
   "execution_count": null,
   "metadata": {},
   "outputs": [],
   "source": []
  }
 ],
 "metadata": {
  "kernelspec": {
   "display_name": "Python 3",
   "language": "python",
   "name": "python3"
  },
  "language_info": {
   "codemirror_mode": {
    "name": "ipython",
    "version": 3
   },
   "file_extension": ".py",
   "mimetype": "text/x-python",
   "name": "python",
   "nbconvert_exporter": "python",
   "pygments_lexer": "ipython3",
   "version": "3.7.4"
  }
 },
 "nbformat": 4,
 "nbformat_minor": 2
}
