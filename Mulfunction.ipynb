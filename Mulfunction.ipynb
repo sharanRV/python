{
 "cells": [
  {
   "cell_type": "code",
   "execution_count": 3,
   "metadata": {},
   "outputs": [],
   "source": [
    "from Allfunction import MultipleFunction"
   ]
  },
  {
   "cell_type": "code",
   "execution_count": 4,
   "metadata": {},
   "outputs": [
    {
     "name": "stdout",
     "output_type": "stream",
     "text": [
      "Enter a number: 4\n",
      "Even Number\n"
     ]
    }
   ],
   "source": [
    "MultipleFunction.oddeven()"
   ]
  },
  {
   "cell_type": "code",
   "execution_count": 5,
   "metadata": {},
   "outputs": [
    {
     "name": "stdout",
     "output_type": "stream",
     "text": [
      "Subfields in AI are\n",
      "Machine Learning\n",
      "Neural Networks\n",
      "Vision\n",
      "Robotics\n",
      "Speech Processing\n",
      "Natural Language Processing\n"
     ]
    }
   ],
   "source": [
    "MultipleFunction.subfields()"
   ]
  },
  {
   "cell_type": "code",
   "execution_count": 6,
   "metadata": {},
   "outputs": [
    {
     "name": "stdout",
     "output_type": "stream",
     "text": [
      "Enter your Gender: Male\n",
      "Enter your age: 24\n",
      "Eligible for marriage\n"
     ]
    }
   ],
   "source": [
    "MultipleFunction.Eligible()"
   ]
  },
  {
   "cell_type": "code",
   "execution_count": 8,
   "metadata": {},
   "outputs": [
    {
     "name": "stdout",
     "output_type": "stream",
     "text": [
      "subject1= 80\n",
      "subject2= 90\n",
      "subject3= 80\n",
      "subject4= 90\n",
      "subject5= 89\n",
      "Total Mark is:  429\n",
      "10th percentage is:   85.8\n"
     ]
    }
   ],
   "source": [
    "MultipleFunction.percentage()"
   ]
  },
  {
   "cell_type": "code",
   "execution_count": 9,
   "metadata": {},
   "outputs": [
    {
     "name": "stdout",
     "output_type": "stream",
     "text": [
      "Height: 32\n",
      "Breadth: 34\n",
      "Area formula: (Height*Breadth)/2 \n",
      "Area of Triangle:  544.0\n",
      "Height1: 2\n",
      "Height2: 4\n",
      "Breadth: 4\n",
      "Perimeter formula:  Height1+Height2+Breadth\n",
      "Perimeter of triangle: 10\n"
     ]
    }
   ],
   "source": [
    "MultipleFunction.triangle()"
   ]
  },
  {
   "cell_type": "code",
   "execution_count": null,
   "metadata": {},
   "outputs": [],
   "source": []
  }
 ],
 "metadata": {
  "kernelspec": {
   "display_name": "Python 3",
   "language": "python",
   "name": "python3"
  },
  "language_info": {
   "codemirror_mode": {
    "name": "ipython",
    "version": 3
   },
   "file_extension": ".py",
   "mimetype": "text/x-python",
   "name": "python",
   "nbconvert_exporter": "python",
   "pygments_lexer": "ipython3",
   "version": "3.7.4"
  }
 },
 "nbformat": 4,
 "nbformat_minor": 2
}
