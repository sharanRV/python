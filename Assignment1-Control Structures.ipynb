{
 "cells": [
  {
   "cell_type": "code",
   "execution_count": 11,
   "metadata": {},
   "outputs": [
    {
     "name": "stdout",
     "output_type": "stream",
     "text": [
      "BMI Calculation\n",
      "Enter your BMI-24\n",
      "Healthy weight\n"
     ]
    }
   ],
   "source": [
    "print(\"BMI Calculation\")\n",
    "bmi=int(input(\"Enter your BMI-\"))\n",
    "if(bmi<18):\n",
    "    print(\"Underweight\")\n",
    "elif(bmi<25):\n",
    "    print(\"Healthy weight\")\n",
    "elif(bmi<30):\n",
    "    print(\"over weight\")\n",
    "elif(bmi<35):\n",
    "    print(\"Obese\")\n",
    "elif(bmi<40):\n",
    "    print(\"severely Obese\")\n",
    "else:\n",
    "    print(\"Morbidly Obese\")    \n",
    "    "
   ]
  },
  {
   "cell_type": "code",
   "execution_count": 14,
   "metadata": {},
   "outputs": [
    {
     "name": "stdout",
     "output_type": "stream",
     "text": [
      "Adding two numbers\n",
      "Enter your number1 10\n",
      "Enter your number2 30\n",
      "Total number is  40\n"
     ]
    }
   ],
   "source": [
    "print(\"Adding two numbers\")\n",
    "num1=int(input(\"Enter your number1 \"))\n",
    "num2=int(input(\"Enter your number2 \"))\n",
    "add=num1+num2\n",
    "print(\"Total number is \",add)"
   ]
  },
  {
   "cell_type": "code",
   "execution_count": null,
   "metadata": {},
   "outputs": [],
   "source": []
  }
 ],
 "metadata": {
  "kernelspec": {
   "display_name": "Python 3",
   "language": "python",
   "name": "python3"
  },
  "language_info": {
   "codemirror_mode": {
    "name": "ipython",
    "version": 3
   },
   "file_extension": ".py",
   "mimetype": "text/x-python",
   "name": "python",
   "nbconvert_exporter": "python",
   "pygments_lexer": "ipython3",
   "version": "3.7.4"
  }
 },
 "nbformat": 4,
 "nbformat_minor": 2
}
